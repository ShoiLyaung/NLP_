{
 "cells": [
  {
   "cell_type": "code",
   "execution_count": 3,
   "outputs": [
    {
     "name": "stdout",
     "output_type": "stream",
     "text": [
      "水果\n"
     ]
    }
   ],
   "source": [
    "from gensim.models import KeyedVectors\n",
    "\n",
    "# 加载预训练的词向量模型\n",
    "model = KeyedVectors.load_word2vec_format(r'tencent-ailab-embedding-zh-d100-v0.2.0-s.txt', binary=False)\n",
    "\n",
    "# 定义歧义词汇和测试用例\n",
    "word = '苹果'\n",
    "meanings = {\n",
    "    '水果': ['这个苹果真好吃，营养价值高。', '今天买了一箱苹果。'],\n",
    "    '电子品牌': ['苹果手机配置不高，但整体性能优化的很好。', '我想买一台苹果电脑。'],\n",
    "    '电影名称': ['苹果上映了，听说非常精彩。', '你看过苹果这部电影吗？']\n",
    "}\n",
    "\n",
    "# 定义一个函数来计算每个义项和测试用例之间的相似度，并返回最佳的义项\n",
    "def disambiguate(word, meanings, model):\n",
    "    best_meaning = None\n",
    "    max_similarity = -1\n",
    "\n",
    "    # 遍历每个义项和测试用例\n",
    "    for meaning, examples in meanings.items():\n",
    "        for example in examples:\n",
    "            # 对每个测试用例，计算其与当前义项的相似度\n",
    "            similarity = model.n_similarity(word, example)\n",
    "\n",
    "            # 如果相似度最高，则更新最佳义项和相似度\n",
    "            if similarity > max_similarity:\n",
    "                max_similarity = similarity\n",
    "                best_meaning = meaning\n",
    "\n",
    "    # 返回最佳义项\n",
    "    return best_meaning\n",
    "\n",
    "# 调用函数进行词义消歧，并打印结果\n",
    "result = disambiguate(word, meanings, model)\n",
    "print(result)\n"
   ],
   "metadata": {
    "collapsed": false,
    "ExecuteTime": {
     "start_time": "2023-04-30T20:42:49.886508Z",
     "end_time": "2023-04-30T20:44:18.443599Z"
    }
   }
  },
  {
   "cell_type": "code",
   "execution_count": 5,
   "outputs": [
    {
     "name": "stdout",
     "output_type": "stream",
     "text": [
      "苹果\n",
      "\"我喜欢吃苹果。\" 的最佳义项为：电子品牌\n",
      "\"我要买一个苹果手机。\" 的最佳义项为：电子品牌\n",
      "\"昨天看了一部叫做苹果的电影。\" 的最佳义项为：电影名称\n",
      "------------------------------------\n",
      "水分\n",
      "\"这个新闻里的水分很大。\" 的最佳义项为：比喻某一情况中的冗余、浪费部分\n",
      "\"他的话有点水分，不太可信。\" 的最佳义项为：比喻某一情况中夹杂的不真实的成分\n"
     ]
    }
   ],
   "source": [
    "import jieba\n",
    "from gensim.models import KeyedVectors\n",
    "\n",
    "# 加载预训练的词向量模型\n",
    "model = KeyedVectors.load_word2vec_format(r'tencent-ailab-embedding-zh-d100-v0.2.0-s.txt', binary=False)\n",
    "\n",
    "# 定义一个函数来计算每个义项和测试句子之间的相似度，并返回最佳的义项\n",
    "def disambiguate(word, meanings, model, sentence):\n",
    "    best_meaning = None\n",
    "    max_similarity = -1\n",
    "\n",
    "    # 对句子进行分词，并将单词拆分成字\n",
    "    words = list(jieba.cut(sentence))\n",
    "    chars = []\n",
    "    for word in words:\n",
    "        chars.extend(list(word))\n",
    "\n",
    "    # 遍历每个义项\n",
    "    for meaning, examples in meanings.items():\n",
    "        # 对每个测试用例，计算其与当前义项的相似度\n",
    "        similarity = 0\n",
    "        for example in examples:\n",
    "            # 将例句拆分成字\n",
    "            example_chars = list(example)\n",
    "            # 对于每个字，计算它与测试句子中每个字的余弦相似度，并取平均值作为句子与例句的相似度\n",
    "            char_similarity = 0\n",
    "            for char in chars:\n",
    "                if char in model.key_to_index and char in example_chars:\n",
    "                    char_similarity += model.similarity(char, char)\n",
    "            if len(chars) > 0:\n",
    "                char_similarity /= len(chars)\n",
    "            similarity += char_similarity\n",
    "        similarity /= len(examples)\n",
    "\n",
    "        # 如果相似度最高，则更新最佳义项和相似度\n",
    "        if similarity > max_similarity:\n",
    "            max_similarity = similarity\n",
    "            best_meaning = meaning\n",
    "\n",
    "    # 返回最佳义项\n",
    "    return best_meaning\n",
    "\n",
    "# 定义歧义词汇和测试句子\n",
    "word_1 = '苹果'\n",
    "meanings_1 = {\n",
    "    '水果': ['这个苹果真好吃，营养价值高。', '今天买了一箱苹果。'],\n",
    "    '电子品牌': ['苹果手机配置不高，但整体性能优化的很好。', '我想买一台苹果电脑。'],\n",
    "    '电影名称': ['苹果上映了，听说非常精彩。', '你看过苹果这部电影吗？']\n",
    "}\n",
    "sentences_1 = [\n",
    "    '我喜欢吃苹果。',\n",
    "    '我要买一个苹果手机。',\n",
    "    '昨天看了一部叫做苹果的电影。'\n",
    "]\n",
    "\n",
    "word_2 = '水分'\n",
    "meanings_2 = {\n",
    "    '物体内所含的水': ['植物是靠它的根从土壤中吸收水分。'],\n",
    "    '比喻某一情况中夹杂的不真实的成分': ['他说的话里有很大的水分。'],\n",
    "    '比喻某一情况中的冗余、浪费部分': ['这个计划里有很多水分，需要重新制定。']\n",
    "}\n",
    "sentences_2 = [\n",
    "    '这个新闻里的水分很大。',\n",
    "    '他的话有点水分，不太可信。'\n",
    "]\n",
    "\n",
    "# 遍历每个测试句子，并输出最佳义项\n",
    "print(word_1)\n",
    "for sentence in sentences_1:\n",
    "    meaning = disambiguate(word_1, meanings_1, model, sentence)\n",
    "    print(f'\"{sentence}\" 的最佳义项为：{meaning}')\n",
    "print(\"------------------------------------\")\n",
    "print(word_2)\n",
    "for sentence in sentences_2:\n",
    "    meaning = disambiguate(word_2, meanings_2, model, sentence)\n",
    "    print(f'\"{sentence}\" 的最佳义项为：{meaning}')"
   ],
   "metadata": {
    "collapsed": false,
    "ExecuteTime": {
     "start_time": "2023-04-30T20:57:18.340345Z",
     "end_time": "2023-04-30T20:58:46.609795Z"
    }
   }
  }
 ],
 "metadata": {
  "kernelspec": {
   "display_name": "Python 3 (ipykernel)",
   "language": "python",
   "name": "python3"
  },
  "language_info": {
   "codemirror_mode": {
    "name": "ipython",
    "version": 3
   },
   "file_extension": ".py",
   "mimetype": "text/x-python",
   "name": "python",
   "nbconvert_exporter": "python",
   "pygments_lexer": "ipython3",
   "version": "3.7.16"
  }
 },
 "nbformat": 4,
 "nbformat_minor": 5
}
