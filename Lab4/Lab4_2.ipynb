{
 "cells": [
  {
   "cell_type": "code",
   "execution_count": 8,
   "metadata": {
    "collapsed": true,
    "ExecuteTime": {
     "start_time": "2023-04-30T21:32:54.623677Z",
     "end_time": "2023-04-30T21:32:56.044163Z"
    }
   },
   "outputs": [],
   "source": [
    "import spacy\n",
    "nlp = spacy.load(\"zh_core_web_md\")\n",
    "\n",
    "def semantic_role_labeling(text):\n",
    "    doc = nlp(text)\n",
    "    srl_tags = []\n",
    "    for token in doc:\n",
    "        srl_tags.append((token.text, token.dep_))\n",
    "    return srl_tags\n"
   ]
  },
  {
   "cell_type": "code",
   "execution_count": 9,
   "outputs": [
    {
     "name": "stdout",
     "output_type": "stream",
     "text": [
      "-------------------------------\n",
      "我要去超市买牛奶\n",
      "[('我', 'nsubj'), ('要', 'xcomp'), ('去', 'ROOT'), ('超市', 'dobj'), ('买', 'conj'), ('牛奶', 'dobj')]\n",
      "-------------------------------\n",
      "由于下雨，他们取消了原定的野餐计划。\n",
      "[('由于', 'case'), ('下雨', 'nmod:prep'), ('，', 'punct'), ('他们', 'nsubj'), ('取消', 'ROOT'), ('了', 'aux:asp'), ('原定', 'amod'), ('的', 'mark'), ('野餐', 'compound:nn'), ('计划', 'dobj'), ('。', 'punct')]\n",
      "-------------------------------\n",
      "这部电影让我感受到了生命的意义。\n",
      "[('这部', 'det'), ('电影', 'nsubj'), ('让', 'ROOT'), ('我', 'dobj'), ('感受', 'ccomp'), ('到', 'advmod:rcomp'), ('了', 'aux:asp'), ('生命', 'nmod:assmod'), ('的', 'case'), ('意义', 'dobj'), ('。', 'punct')]\n",
      "-------------------------------\n",
      "他们的工作需要频繁地出差，所以他们很少能在家团聚。\n",
      "[('他们', 'nmod:assmod'), ('的', 'case'), ('工作', 'nsubj'), ('需要', 'xcomp'), ('频繁', 'advmod:dvp'), ('地', 'mark'), ('出差', 'ROOT'), ('，', 'punct'), ('所以', 'advmod'), ('他们', 'nsubj'), ('很', 'advmod'), ('少', 'advmod'), ('能', 'aux:modal'), ('在家', 'conj'), ('团聚', 'compound:vc'), ('。', 'punct')]\n",
      "-------------------------------\n",
      "为了获得更好的用户体验，我们对产品进行了全面升级。\n",
      "[('为了', 'case'), ('获得', 'nmod:prep'), ('更', 'advmod'), ('好的', 'amod'), ('用户', 'compound:nn'), ('体验', 'dobj'), ('，', 'punct'), ('我们', 'nsubj'), ('对', 'case'), ('产品', 'nmod:prep'), ('进行', 'ROOT'), ('了', 'aux:asp'), ('全面', 'amod'), ('升级', 'dobj'), ('。', 'punct')]\n",
      "-------------------------------\n",
      "在公司的培训课程中，他学习了很多关于领导力的知识。\n",
      "[('在', 'case'), ('公司', 'nmod:assmod'), ('的', 'case'), ('培训', 'compound:nn'), ('课程', 'nmod:prep'), ('中', 'case'), ('，', 'punct'), ('他', 'nsubj'), ('学习', 'ROOT'), ('了', 'aux:asp'), ('很多', 'dep'), ('关于', 'case'), ('领导力', 'nmod'), ('的', 'case'), ('知识', 'dobj'), ('。', 'punct')]\n",
      "-------------------------------\n",
      "虽然他很累，但他还是坚持每天都去健身房锻炼。\n",
      "[('虽然', 'advmod'), ('他', 'nsubj'), ('很', 'advmod'), ('累', 'dep'), ('，', 'punct'), ('但', 'advmod'), ('他', 'nsubj'), ('还是', 'advmod'), ('坚持', 'ROOT'), ('每天', 'advmod'), ('都', 'advmod'), ('去', 'ccomp'), ('健身房', 'dobj'), ('锻炼', 'conj'), ('。', 'punct')]\n",
      "-------------------------------\n",
      "我们计划在周末去爬山，享受自然风光。\n",
      "[('我们', 'nsubj'), ('计划', 'ROOT'), ('在', 'case'), ('周末', 'nmod:prep'), ('去', 'xcomp'), ('爬山', 'ccomp'), ('，', 'punct'), ('享受', 'conj'), ('自然', 'compound:nn'), ('风光', 'dobj'), ('。', 'punct')]\n",
      "-------------------------------\n",
      "他们的演出获得了观众们的一致好评。\n",
      "[('他们', 'nmod:assmod'), ('的', 'case'), ('演出', 'nsubj'), ('获得', 'ROOT'), ('了', 'aux:asp'), ('观众们', 'nmod:assmod'), ('的', 'case'), ('一致', 'amod'), ('好评', 'dobj'), ('。', 'punct')]\n",
      "-------------------------------\n",
      "这个社区的居民们经常一起参加志愿活动，为社区建设贡献力量。\n",
      "[('这个', 'det'), ('社区', 'nmod:assmod'), ('的', 'case'), ('居民们', 'nsubj'), ('经常', 'advmod'), ('一起', 'advmod'), ('参加', 'ROOT'), ('志愿', 'compound:nn'), ('活动', 'dobj'), ('，', 'punct'), ('为', 'case'), ('社区', 'compound:nn'), ('建设', 'nmod:prep'), ('贡献', 'conj'), ('力量', 'dobj'), ('。', 'punct')]\n",
      "-------------------------------\n",
      "我们需要做好准备，以应对可能出现的各种困难和挑战。\n",
      "[('我们', 'nsubj'), ('需要', 'xcomp'), ('做好', 'ROOT'), ('准备', 'dobj'), ('，', 'punct'), ('以', 'aux:prtmod'), ('应对', 'conj'), ('可能', 'aux:modal'), ('出现', 'acl'), ('的', 'mark'), ('各种', 'dep'), ('困难', 'conj'), ('和', 'cc'), ('挑战', 'dobj'), ('。', 'punct')]\n"
     ]
    }
   ],
   "source": [
    "texts = [\"我要去超市买牛奶\",\n",
    "        \"由于下雨，他们取消了原定的野餐计划。\",\n",
    "        \"这部电影让我感受到了生命的意义。\",\n",
    "        \"他们的工作需要频繁地出差，所以他们很少能在家团聚。\",\n",
    "        \"为了获得更好的用户体验，我们对产品进行了全面升级。\",\n",
    "        \"在公司的培训课程中，他学习了很多关于领导力的知识。\",\n",
    "        \"虽然他很累，但他还是坚持每天都去健身房锻炼。\",\n",
    "        \"我们计划在周末去爬山，享受自然风光。\",\n",
    "        \"他们的演出获得了观众们的一致好评。\",\n",
    "        \"这个社区的居民们经常一起参加志愿活动，为社区建设贡献力量。\",\n",
    "        \"我们需要做好准备，以应对可能出现的各种困难和挑战。\",\n",
    "         ]\n",
    "for text in texts:\n",
    "    print(\"-------------------------------\")\n",
    "    print(text)\n",
    "    srl_tags = semantic_role_labeling(text)\n",
    "    print(srl_tags)\n"
   ],
   "metadata": {
    "collapsed": false,
    "ExecuteTime": {
     "start_time": "2023-04-30T21:32:56.046165Z",
     "end_time": "2023-04-30T21:32:56.123186Z"
    }
   }
  },
  {
   "cell_type": "code",
   "execution_count": 9,
   "outputs": [],
   "source": [],
   "metadata": {
    "collapsed": false,
    "ExecuteTime": {
     "start_time": "2023-04-30T21:32:56.123186Z",
     "end_time": "2023-04-30T21:32:56.168101Z"
    }
   }
  }
 ],
 "metadata": {
  "kernelspec": {
   "display_name": "Python 3",
   "language": "python",
   "name": "python3"
  },
  "language_info": {
   "codemirror_mode": {
    "name": "ipython",
    "version": 2
   },
   "file_extension": ".py",
   "mimetype": "text/x-python",
   "name": "python",
   "nbconvert_exporter": "python",
   "pygments_lexer": "ipython2",
   "version": "2.7.6"
  }
 },
 "nbformat": 4,
 "nbformat_minor": 0
}
