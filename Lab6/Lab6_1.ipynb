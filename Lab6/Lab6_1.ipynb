{
 "cells": [
  {
   "cell_type": "code",
   "execution_count": 1,
   "metadata": {
    "collapsed": true,
    "ExecuteTime": {
     "end_time": "2023-05-14T08:02:54.578066100Z",
     "start_time": "2023-05-14T08:02:53.666164600Z"
    }
   },
   "outputs": [],
   "source": [
    "from sklearn.datasets import fetch_20newsgroups\n",
    "from sklearn.feature_extraction.text import TfidfVectorizer\n",
    "from sklearn.naive_bayes import MultinomialNB\n",
    "from sklearn.linear_model import LogisticRegression\n",
    "from sklearn.metrics import accuracy_score"
   ]
  },
  {
   "cell_type": "code",
   "execution_count": 2,
   "outputs": [
    {
     "data": {
      "text/plain": "MultinomialNB()"
     },
     "execution_count": 2,
     "metadata": {},
     "output_type": "execute_result"
    }
   ],
   "source": [
    "# 加载数据集\n",
    "categories = ['sci.med', 'comp.graphics', 'rec.sport.baseball', 'talk.politics.misc']\n",
    "data = fetch_20newsgroups(categories=categories, subset='all', shuffle=True, random_state=42)\n",
    "# data = fetch_20newsgroups(subset='all', shuffle=True, random_state=42)\n",
    "# 特征提取\n",
    "vectorizer = TfidfVectorizer()\n",
    "X = vectorizer.fit_transform(data.data)\n",
    "y = data.target\n",
    "\n",
    "# 训练分类模型\n",
    "# classifier = LogisticRegression()\n",
    "classifier = MultinomialNB()\n",
    "classifier.fit(X, y)"
   ],
   "metadata": {
    "collapsed": false,
    "ExecuteTime": {
     "end_time": "2023-05-14T08:02:55.424792900Z",
     "start_time": "2023-05-14T08:02:54.581067500Z"
    }
   }
  },
  {
   "cell_type": "code",
   "execution_count": 3,
   "outputs": [],
   "source": [
    "# 测试分类算法\n",
    "test_cases = [\n",
    "    \"I have a fever and cough\",\n",
    "    \"Which software is best for 3D modeling?\",\n",
    "    \"Who won the World Series last year?\",\n",
    "    \"What are the symptoms of diabetes?\",\n",
    "    \"How to create a bar chart in Python?\",\n",
    "    \"Who is the highest-scoring player in baseball history?\",\n",
    "    \"Is there a cure for cancer?\",\n",
    "    \"What is the resolution of a high-definition monitor?\",\n",
    "    \"Who is the current MVP in baseball?\",\n",
    "    \"How to prevent heart diseases?\",\n",
    "    \"What are the different file formats for storing images?\"\n",
    "]\n"
   ],
   "metadata": {
    "collapsed": false,
    "ExecuteTime": {
     "end_time": "2023-05-14T08:02:55.441197600Z",
     "start_time": "2023-05-14T08:02:55.424792900Z"
    }
   }
  },
  {
   "cell_type": "code",
   "execution_count": 4,
   "outputs": [
    {
     "name": "stdout",
     "output_type": "stream",
     "text": [
      "测试用例\t\t\t\t\t\t\t\t\t\t预测分类\n",
      "-----------------------------------------------\n",
      "I have a fever and cough                \tsci.med\n",
      "Which software is best for 3D modeling? \tcomp.graphics\n",
      "Who won the World Series last year?     \trec.sport.baseball\n",
      "What are the symptoms of diabetes?      \tsci.med\n",
      "How to create a bar chart in Python?    \tcomp.graphics\n",
      "Who is the highest-scoring player in bas\trec.sport.baseball\n",
      "Is there a cure for cancer?             \tsci.med\n",
      "What is the resolution of a high-definit\tcomp.graphics\n",
      "Who is the current MVP in baseball?     \trec.sport.baseball\n",
      "How to prevent heart diseases?          \tsci.med\n",
      "What are the different file formats for \tcomp.graphics\n",
      "\n",
      "Accuracy: 0.36363636363636365\n"
     ]
    }
   ],
   "source": [
    "X_test = vectorizer.transform(test_cases)\n",
    "predictions = classifier.predict(X_test)\n",
    "\n",
    "# 显示分类结果和准确度\n",
    "print(\"测试用例\\t\\t\\t\\t\\t\\t\\t\\t\\t\\t预测分类\")\n",
    "print(\"-----------------------------------------------\")\n",
    "for test_case, prediction in zip(test_cases, predictions):\n",
    "    print(f\"{test_case[:40]:<40}\\t{data.target_names[prediction]}\")\n",
    "\n",
    "accuracy = accuracy_score(data.target[:len(test_cases)], predictions)\n",
    "print(\"\\nAccuracy:\", accuracy)\n"
   ],
   "metadata": {
    "collapsed": false,
    "ExecuteTime": {
     "end_time": "2023-05-14T08:02:55.485623300Z",
     "start_time": "2023-05-14T08:02:55.441197600Z"
    }
   }
  },
  {
   "cell_type": "code",
   "execution_count": 4,
   "outputs": [],
   "source": [],
   "metadata": {
    "collapsed": false,
    "ExecuteTime": {
     "end_time": "2023-05-14T08:02:55.485623300Z",
     "start_time": "2023-05-14T08:02:55.457617100Z"
    }
   }
  }
 ],
 "metadata": {
  "kernelspec": {
   "display_name": "Python 3",
   "language": "python",
   "name": "python3"
  },
  "language_info": {
   "codemirror_mode": {
    "name": "ipython",
    "version": 2
   },
   "file_extension": ".py",
   "mimetype": "text/x-python",
   "name": "python",
   "nbconvert_exporter": "python",
   "pygments_lexer": "ipython2",
   "version": "2.7.6"
  }
 },
 "nbformat": 4,
 "nbformat_minor": 0
}
