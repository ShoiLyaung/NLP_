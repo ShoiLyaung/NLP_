{
 "cells": [
  {
   "cell_type": "code",
   "execution_count": 6,
   "outputs": [],
   "source": [
    "import spacy\n",
    "\n",
    "nlp = spacy.load(\"zh_core_web_md\") # 加载中文模型\n",
    "\n",
    "def named_entity_recognition(text):\n",
    "    doc = nlp(text)\n",
    "    for ent in doc.ents:\n",
    "        print(ent.text, ent.start_char, ent.end_char, ent.label_)"
   ],
   "metadata": {
    "collapsed": false,
    "ExecuteTime": {
     "start_time": "2023-04-30T22:07:00.397842Z",
     "end_time": "2023-04-30T22:07:01.667918Z"
    }
   }
  },
  {
   "cell_type": "code",
   "execution_count": 7,
   "outputs": [
    {
     "name": "stdout",
     "output_type": "stream",
     "text": [
      "2023年 0 5 DATE\n",
      "上海 7 9 GPE\n",
      "第55届国际金融会议 11 21 EVENT\n",
      "张三 0 2 PERSON\n",
      "腾讯 19 21 ORG\n",
      "伦敦 0 2 GPE\n",
      "乔布斯 0 3 ORG\n",
      "华为 0 2 ORG\n",
      "深圳 9 11 GPE\n",
      "五月天 0 3 DATE\n",
      "台湾 8 10 GPE\n",
      "北京大学 0 4 ORG\n",
      "1898年 7 12 DATE\n",
      "李白 0 2 PERSON\n",
      "唐朝时期 3 7 DATE\n",
      "江苏省 0 3 GPE\n",
      "1号 13 15 DATE\n",
      "IBM 0 3 ORG\n"
     ]
    }
   ],
   "source": [
    "texts = [\n",
    "    \"2023年将在上海举办第55届国际金融会议。\",\n",
    "    \"张三是一位优秀的软件工程师，目前就职于腾讯。\",\n",
    "    \"伦敦的天气真不错！\",\n",
    "    \"乔布斯是苹果公司的创始人。\",\n",
    "    \"华为是一家总部位于深圳的跨国科技公司。\",\n",
    "    \"五月天是一支来自台湾的流行摇滚乐队。\",\n",
    "    \"北京大学成立于1898年。\",\n",
    "    \"李白是唐朝时期著名的诗人。\",\n",
    "    \"江苏省南京市玄武区中山陵路1号\",\n",
    "    \"IBM是一家世界知名的跨国信息技术公司。\"\n",
    "]\n",
    "\n",
    "for text in texts:\n",
    "    named_entity_recognition(text)\n"
   ],
   "metadata": {
    "collapsed": false,
    "ExecuteTime": {
     "start_time": "2023-04-30T22:07:03.681815Z",
     "end_time": "2023-04-30T22:07:03.741829Z"
    }
   }
  },
  {
   "cell_type": "code",
   "execution_count": null,
   "outputs": [],
   "source": [],
   "metadata": {
    "collapsed": false
   }
  }
 ],
 "metadata": {
  "kernelspec": {
   "display_name": "Python 3",
   "language": "python",
   "name": "python3"
  },
  "language_info": {
   "codemirror_mode": {
    "name": "ipython",
    "version": 2
   },
   "file_extension": ".py",
   "mimetype": "text/x-python",
   "name": "python",
   "nbconvert_exporter": "python",
   "pygments_lexer": "ipython2",
   "version": "2.7.6"
  }
 },
 "nbformat": 4,
 "nbformat_minor": 0
}
