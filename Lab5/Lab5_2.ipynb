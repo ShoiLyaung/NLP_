{
 "cells": [
  {
   "cell_type": "code",
   "execution_count": 1,
   "metadata": {
    "collapsed": true,
    "ExecuteTime": {
     "start_time": "2023-04-30T22:47:16.561334Z",
     "end_time": "2023-04-30T22:47:20.166940Z"
    }
   },
   "outputs": [],
   "source": [
    "import spacy\n",
    "\n",
    "nlp = spacy.load(\"zh_core_web_md\")\n",
    "\n",
    "def extract_entity_relations(text):\n",
    "    doc = nlp(text)\n",
    "    entities = []\n",
    "    for ent in doc.ents:\n",
    "        entities.append((ent.text, ent.label_))\n",
    "\n",
    "    relations = []\n",
    "    for sent in doc.sents:\n",
    "        for token in sent:\n",
    "            if token.dep_ in (\"ROOT\", \"nsubj\", \"dobj\"):\n",
    "                subject = \"\"\n",
    "                object = \"\"\n",
    "                for child in token.children:\n",
    "                    if child.dep_ == \"nsubj\":\n",
    "                        subject = child.text\n",
    "                    elif child.dep_ == \"dobj\":\n",
    "                        object = child.text\n",
    "                if subject and object:\n",
    "                    relations.append((subject, token.text, object))\n",
    "\n",
    "    return entities, relations\n"
   ]
  },
  {
   "cell_type": "code",
   "execution_count": 3,
   "outputs": [
    {
     "name": "stdout",
     "output_type": "stream",
     "text": [
      "Text:  《红楼梦》的作者是曹雪芹。\n",
      "Entities:  [('红楼梦', 'WORK_OF_ART'), ('曹雪芹', 'PERSON')]\n",
      "Expected entities:  [('红楼梦', 'WORKS_OF_ART'), ('曹雪芹', 'PERSON')]\n",
      "Relations:  []\n",
      "Expected relations:  [('红楼梦', '作者', '曹雪芹')]\n",
      "\n",
      "\n",
      "Text:  北京是中国的首都。\n",
      "Entities:  [('北京', 'GPE'), ('中国', 'GPE')]\n",
      "Expected entities:  [('北京', 'GPE'), ('中国', 'GPE')]\n",
      "Relations:  []\n",
      "Expected relations:  [('北京', '首都', '中国')]\n",
      "\n",
      "\n",
      "Text:  李娜是中国的著名网球运动员。\n",
      "Entities:  [('李娜', 'PERSON'), ('中国', 'GPE')]\n",
      "Expected entities:  [('李娜', 'PERSON'), ('中国', 'GPE'), ('网球', 'SPORTS')]\n",
      "Relations:  []\n",
      "Expected relations:  [('李娜', '运动员', '网球')]\n",
      "\n",
      "\n",
      "Text:  苹果公司的总部在加利福尼亚。\n",
      "Entities:  [('加利福尼亚', 'GPE')]\n",
      "Expected entities:  [('苹果公司', 'ORG'), ('加利福尼亚', 'GPE')]\n",
      "Relations:  [('总部', '在', '加利福尼亚')]\n",
      "Expected relations:  [('苹果公司', '总部所在地', '加利福尼亚')]\n",
      "\n",
      "\n",
      "Text:  《三体》是刘慈欣的科幻小说。\n",
      "Entities:  [('三体', 'WORK_OF_ART'), ('刘慈欣', 'PERSON')]\n",
      "Expected entities:  [('三体', 'WORKS_OF_ART'), ('刘慈欣', 'PERSON'), ('科幻小说', 'LITERATURE')]\n",
      "Relations:  []\n",
      "Expected relations:  [('三体', '作者', '刘慈欣')]\n",
      "\n",
      "\n"
     ]
    }
   ],
   "source": [
    "test_cases = [\n",
    "    (\"《红楼梦》的作者是曹雪芹。\", [(\"红楼梦\", \"WORKS_OF_ART\"), (\"曹雪芹\", \"PERSON\")], [(\"红楼梦\", \"作者\", \"曹雪芹\")]),\n",
    "    (\"北京是中国的首都。\", [(\"北京\", \"GPE\"), (\"中国\", \"GPE\")], [(\"北京\", \"首都\", \"中国\")]),\n",
    "    (\"李娜是中国的著名网球运动员。\", [(\"李娜\", \"PERSON\"), (\"中国\", \"GPE\"), (\"网球\", \"SPORTS\")], [(\"李娜\", \"运动员\", \"网球\")]),\n",
    "    (\"苹果公司的总部在加利福尼亚。\", [(\"苹果公司\", \"ORG\"), (\"加利福尼亚\", \"GPE\")], [(\"苹果公司\", \"总部所在地\", \"加利福尼亚\")]),\n",
    "    (\"《三体》是刘慈欣的科幻小说。\", [(\"三体\", \"WORKS_OF_ART\"), (\"刘慈欣\", \"PERSON\"), (\"科幻小说\", \"LITERATURE\")], [(\"三体\", \"作者\", \"刘慈欣\")]),\n",
    "]\n",
    "\n",
    "for text, expected_entities, expected_relations in test_cases:\n",
    "    entities, relations = extract_entity_relations(text)\n",
    "    print(\"Text: \", text)\n",
    "    print(\"Entities: \", entities)\n",
    "    print(\"Expected entities: \", expected_entities)\n",
    "    print(\"Relations: \", relations)\n",
    "    print(\"Expected relations: \", expected_relations)\n",
    "    print(\"\\n\")\n"
   ],
   "metadata": {
    "collapsed": false,
    "ExecuteTime": {
     "start_time": "2023-04-30T22:47:47.666446Z",
     "end_time": "2023-04-30T22:47:47.707456Z"
    }
   }
  },
  {
   "cell_type": "code",
   "execution_count": null,
   "outputs": [],
   "source": [],
   "metadata": {
    "collapsed": false
   }
  }
 ],
 "metadata": {
  "kernelspec": {
   "display_name": "Python 3",
   "language": "python",
   "name": "python3"
  },
  "language_info": {
   "codemirror_mode": {
    "name": "ipython",
    "version": 2
   },
   "file_extension": ".py",
   "mimetype": "text/x-python",
   "name": "python",
   "nbconvert_exporter": "python",
   "pygments_lexer": "ipython2",
   "version": "2.7.6"
  }
 },
 "nbformat": 4,
 "nbformat_minor": 0
}
